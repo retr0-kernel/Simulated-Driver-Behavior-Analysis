{
  "nbformat": 4,
  "nbformat_minor": 0,
  "metadata": {
    "colab": {
      "provenance": [],
      "mount_file_id": "1zhK0xnQ78ZVhakka6pCCtuZslZ5AZvMa",
      "authorship_tag": "ABX9TyPSAYXZaQSbjMRHFUBrR5pu",
      "include_colab_link": true
    },
    "kernelspec": {
      "name": "python3",
      "display_name": "Python 3"
    },
    "language_info": {
      "name": "python"
    }
  },
  "cells": [
    {
      "cell_type": "markdown",
      "metadata": {
        "id": "view-in-github",
        "colab_type": "text"
      },
      "source": [
        "<a href=\"https://colab.research.google.com/github/retr0-kernel/UROP/blob/main/Driver_Behaviour_Analysis(Dense_Neural_Network).ipynb\" target=\"_parent\"><img src=\"https://colab.research.google.com/assets/colab-badge.svg\" alt=\"Open In Colab\"/></a>"
      ]
    },
    {
      "cell_type": "code",
      "source": [
        "import pandas as pd\n",
        "import numpy as np\n",
        "import os\n",
        "from sklearn.preprocessing import StandardScaler, LabelEncoder\n",
        "from sklearn.model_selection import train_test_split\n",
        "import tensorflow as tf\n",
        "from tensorflow import keras"
      ],
      "metadata": {
        "id": "FTdaz5_UnIz7"
      },
      "execution_count": null,
      "outputs": []
    },
    {
      "cell_type": "code",
      "source": [
        "dataset = 'https://raw.githubusercontent.com/Ani-RudE/urop/main/full_data.csv'\n",
        "df = pd.read_csv(dataset, header=0)"
      ],
      "metadata": {
        "id": "MxxvEsPvoI78"
      },
      "execution_count": null,
      "outputs": []
    },
    {
      "cell_type": "code",
      "source": [
        "X = df.drop('class', axis=1) #features\n",
        "y = df['class'] #labels"
      ],
      "metadata": {
        "id": "koL-tgtjoxb7"
      },
      "execution_count": null,
      "outputs": []
    },
    {
      "cell_type": "code",
      "source": [
        "#  labels(strings) to numeric conversion\n",
        "label_encoder = LabelEncoder()\n",
        "y_encoded = label_encoder.fit_transform(y)"
      ],
      "metadata": {
        "id": "n8kRlXSusLvF"
      },
      "execution_count": null,
      "outputs": []
    },
    {
      "cell_type": "code",
      "source": [
        "X_train, X_test, y_train, y_test = train_test_split(X, y_encoded, test_size=0.3, random_state=42) #30% for testing other 70% for training\n",
        "# random_state is used for reliability and reproducibility"
      ],
      "metadata": {
        "id": "SndZuhm43plR"
      },
      "execution_count": null,
      "outputs": []
    },
    {
      "cell_type": "code",
      "source": [
        "#Standardization\n",
        "scaler = StandardScaler()\n",
        "X_train = scaler.fit_transform(X_train)\n",
        "X_test = scaler.transform(X_test)"
      ],
      "metadata": {
        "id": "NzLP9iHhvFjn"
      },
      "execution_count": null,
      "outputs": []
    },
    {
      "cell_type": "code",
      "source": [
        "model = keras.Sequential([\n",
        "keras.layers.Input(shape=X_train.shape[1:]),\n",
        "keras.layers.Dense(500, activation='relu'),\n",
        "keras.layers.Dense(1000, activation='relu'),\n",
        "keras.layers.Dense(500, activation='relu'),\n",
        "keras.layers.Dropout(0.2), #prevents overfitting\n",
        "keras.layers.Dense(len(label_encoder.classes_), activation='softmax') #softmax activation function for multi-class classification.\n",
        "])"
      ],
      "metadata": {
        "id": "mozkS5Cev6G4"
      },
      "execution_count": null,
      "outputs": []
    },
    {
      "cell_type": "code",
      "source": [
        "model.compile(optimizer='adam',\n",
        "loss='sparse_categorical_crossentropy',\n",
        "metrics=['accuracy'])"
      ],
      "metadata": {
        "id": "zuCNmnuez54F"
      },
      "execution_count": null,
      "outputs": []
    },
    {
      "cell_type": "code",
      "source": [
        "history = model.fit(X_train, y_train, epochs=30, validation_data=(X_test, y_test), verbose=1)\n",
        "test_loss, test_accuracy = model.evaluate(X_test, y_test)\n",
        "print(f'Test accuracy: {test_accuracy * 100:.2f}%')"
      ],
      "metadata": {
        "id": "8XqaUL7aTmCw"
      },
      "execution_count": null,
      "outputs": []
    }
  ]
}