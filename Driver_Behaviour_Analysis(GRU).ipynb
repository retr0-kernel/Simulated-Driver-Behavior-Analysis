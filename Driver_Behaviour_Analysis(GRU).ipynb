{
  "nbformat": 4,
  "nbformat_minor": 0,
  "metadata": {
    "colab": {
      "provenance": [],
      "authorship_tag": "ABX9TyMTen6Tz2NJEy7rvrLDotUc",
      "include_colab_link": true
    },
    "kernelspec": {
      "name": "python3",
      "display_name": "Python 3"
    },
    "language_info": {
      "name": "python"
    }
  },
  "cells": [
    {
      "cell_type": "markdown",
      "metadata": {
        "id": "view-in-github",
        "colab_type": "text"
      },
      "source": [
        "<a href=\"https://colab.research.google.com/github/retr0-kernel/UROP/blob/main/Driver_Behaviour_Analysis(GRU).ipynb\" target=\"_parent\"><img src=\"https://colab.research.google.com/assets/colab-badge.svg\" alt=\"Open In Colab\"/></a>"
      ]
    },
    {
      "cell_type": "code",
      "execution_count": 1,
      "metadata": {
        "id": "q64r5oP0PzSs"
      },
      "outputs": [],
      "source": [
        "import pandas as pd\n",
        "import numpy as np\n",
        "import os\n",
        "import tensorflow as tf\n",
        "from tensorflow import keras\n",
        "from sklearn.preprocessing import LabelEncoder\n",
        "from sklearn.model_selection import train_test_split\n",
        "from sklearn.preprocessing import StandardScaler"
      ]
    },
    {
      "cell_type": "code",
      "source": [
        "FILE = 'https://github.com/Ani-RudE/urop/raw/main/Data/full_data.csv'\n",
        "iris_data = pd.read_csv(FILE, header=0)"
      ],
      "metadata": {
        "id": "tIcTlLpgQ61V"
      },
      "execution_count": 3,
      "outputs": []
    },
    {
      "cell_type": "code",
      "source": [
        "X = iris_data.drop('class', axis=1)\n",
        "y = iris_data['class']"
      ],
      "metadata": {
        "id": "oFb1-e5jRRJY"
      },
      "execution_count": 4,
      "outputs": []
    },
    {
      "cell_type": "code",
      "source": [
        "label_encoder = LabelEncoder()\n",
        "y_encoded = label_encoder.fit_transform(y)"
      ],
      "metadata": {
        "id": "IAvX41-URkmf"
      },
      "execution_count": 5,
      "outputs": []
    },
    {
      "cell_type": "code",
      "source": [
        "X_train, X_test, y_train, y_test = train_test_split(X, y_encoded, test_size=0.3, random_state=42)"
      ],
      "metadata": {
        "id": "gkBNGwRiRoQ2"
      },
      "execution_count": 6,
      "outputs": []
    },
    {
      "cell_type": "code",
      "source": [
        "scaler = StandardScaler()\n",
        "X_train = scaler.fit_transform(X_train)\n",
        "X_test = scaler.transform(X_test)"
      ],
      "metadata": {
        "id": "DjvAUAkRRqxw"
      },
      "execution_count": 7,
      "outputs": []
    },
    {
      "cell_type": "code",
      "source": [
        "X_train = X_train.reshape(X_train.shape[0], X_train.shape[1], 1)\n",
        "X_test = X_test.reshape(X_test.shape[0], X_test.shape[1], 1)"
      ],
      "metadata": {
        "id": "wIAxL6WIRsvL"
      },
      "execution_count": 8,
      "outputs": []
    },
    {
      "cell_type": "code",
      "source": [
        "model = keras.Sequential([\n",
        "    keras.layers.Input(shape=(X_train.shape[1], 1)),\n",
        "    keras.layers.GRU(64, return_sequences=True),\n",
        "    keras.layers.GRU(64),\n",
        "    keras.layers.Dense(128, activation='relu'),\n",
        "    keras.layers.Dense(len(label_encoder.classes_), activation='softmax')\n",
        "])"
      ],
      "metadata": {
        "id": "yOMV-qYbR6XP"
      },
      "execution_count": 9,
      "outputs": []
    },
    {
      "cell_type": "code",
      "source": [
        "custom_optimizer = keras.optimizers.Adam(learning_rate=0.001)\n",
        "model.compile(optimizer=custom_optimizer, loss='sparse_categorical_crossentropy', metrics=['accuracy'])"
      ],
      "metadata": {
        "id": "dZsnlLAYR_rT"
      },
      "execution_count": 10,
      "outputs": []
    },
    {
      "cell_type": "code",
      "source": [
        "history = model.fit(X_train, y_train, epochs=50, validation_data=(X_test, y_test), verbose=1)\n",
        "test_loss, test_accuracy = model.evaluate(X_test, y_test)\n",
        "print(f'Test accuracy: {test_accuracy * 100:.2f}%')"
      ],
      "metadata": {
        "colab": {
          "base_uri": "https://localhost:8080/"
        },
        "id": "Io1xvkqsSLim",
        "outputId": "a437b169-1bd7-48af-b448-9e7243f1c23d"
      },
      "execution_count": 12,
      "outputs": [
        {
          "output_type": "stream",
          "name": "stdout",
          "text": [
            "Epoch 1/50\n",
            "2174/2174 [==============================] - 40s 16ms/step - loss: 0.5627 - accuracy: 0.7715 - val_loss: 0.3051 - val_accuracy: 0.8662\n",
            "Epoch 2/50\n",
            "2174/2174 [==============================] - 33s 15ms/step - loss: 0.1831 - accuracy: 0.9255 - val_loss: 0.1021 - val_accuracy: 0.9568\n",
            "Epoch 3/50\n",
            "2174/2174 [==============================] - 36s 16ms/step - loss: 0.1437 - accuracy: 0.9428 - val_loss: 0.2291 - val_accuracy: 0.9155\n",
            "Epoch 4/50\n",
            "2174/2174 [==============================] - 33s 15ms/step - loss: 0.1122 - accuracy: 0.9552 - val_loss: 0.0607 - val_accuracy: 0.9782\n",
            "Epoch 5/50\n",
            "2174/2174 [==============================] - 31s 14ms/step - loss: 0.1140 - accuracy: 0.9570 - val_loss: 0.1723 - val_accuracy: 0.9208\n",
            "Epoch 6/50\n",
            "2174/2174 [==============================] - 32s 14ms/step - loss: 0.0955 - accuracy: 0.9639 - val_loss: 0.0640 - val_accuracy: 0.9766\n",
            "Epoch 7/50\n",
            "2174/2174 [==============================] - 33s 15ms/step - loss: 0.0884 - accuracy: 0.9658 - val_loss: 0.0393 - val_accuracy: 0.9871\n",
            "Epoch 8/50\n",
            "2174/2174 [==============================] - 31s 14ms/step - loss: 0.0811 - accuracy: 0.9692 - val_loss: 0.0535 - val_accuracy: 0.9775\n",
            "Epoch 9/50\n",
            "2174/2174 [==============================] - 32s 15ms/step - loss: 0.0735 - accuracy: 0.9724 - val_loss: 0.0416 - val_accuracy: 0.9887\n",
            "Epoch 10/50\n",
            "2174/2174 [==============================] - 34s 15ms/step - loss: 0.0675 - accuracy: 0.9749 - val_loss: 0.0468 - val_accuracy: 0.9815\n",
            "Epoch 11/50\n",
            "2174/2174 [==============================] - 32s 15ms/step - loss: 0.0650 - accuracy: 0.9761 - val_loss: 0.0634 - val_accuracy: 0.9728\n",
            "Epoch 12/50\n",
            "2174/2174 [==============================] - 30s 14ms/step - loss: 0.0599 - accuracy: 0.9776 - val_loss: 0.0531 - val_accuracy: 0.9805\n",
            "Epoch 13/50\n",
            "2174/2174 [==============================] - 33s 15ms/step - loss: 0.0574 - accuracy: 0.9782 - val_loss: 0.0371 - val_accuracy: 0.9873\n",
            "Epoch 14/50\n",
            "2174/2174 [==============================] - 32s 15ms/step - loss: 0.0559 - accuracy: 0.9793 - val_loss: 0.0716 - val_accuracy: 0.9707\n",
            "Epoch 15/50\n",
            "2174/2174 [==============================] - 31s 14ms/step - loss: 0.0507 - accuracy: 0.9812 - val_loss: 0.0934 - val_accuracy: 0.9696\n",
            "Epoch 16/50\n",
            "2174/2174 [==============================] - 33s 15ms/step - loss: 0.0478 - accuracy: 0.9821 - val_loss: 0.0947 - val_accuracy: 0.9571\n",
            "Epoch 17/50\n",
            "2174/2174 [==============================] - 32s 15ms/step - loss: 0.0499 - accuracy: 0.9822 - val_loss: 0.0499 - val_accuracy: 0.9831\n",
            "Epoch 18/50\n",
            "2174/2174 [==============================] - 34s 15ms/step - loss: 0.0425 - accuracy: 0.9846 - val_loss: 0.0307 - val_accuracy: 0.9867\n",
            "Epoch 19/50\n",
            "2174/2174 [==============================] - 31s 14ms/step - loss: 0.0428 - accuracy: 0.9845 - val_loss: 0.0205 - val_accuracy: 0.9928\n",
            "Epoch 20/50\n",
            "2174/2174 [==============================] - 33s 15ms/step - loss: 0.0426 - accuracy: 0.9844 - val_loss: 0.0170 - val_accuracy: 0.9957\n",
            "Epoch 21/50\n",
            "2174/2174 [==============================] - 33s 15ms/step - loss: 0.0393 - accuracy: 0.9856 - val_loss: 0.0626 - val_accuracy: 0.9741\n",
            "Epoch 22/50\n",
            "2174/2174 [==============================] - 31s 14ms/step - loss: 0.0406 - accuracy: 0.9855 - val_loss: 0.0245 - val_accuracy: 0.9905\n",
            "Epoch 23/50\n",
            "2174/2174 [==============================] - 33s 15ms/step - loss: 0.0321 - accuracy: 0.9886 - val_loss: 0.0271 - val_accuracy: 0.9893\n",
            "Epoch 24/50\n",
            "2174/2174 [==============================] - 34s 16ms/step - loss: 0.0330 - accuracy: 0.9882 - val_loss: 0.0167 - val_accuracy: 0.9939\n",
            "Epoch 25/50\n",
            "2174/2174 [==============================] - 31s 14ms/step - loss: 0.0392 - accuracy: 0.9868 - val_loss: 0.0380 - val_accuracy: 0.9867\n",
            "Epoch 26/50\n",
            "2174/2174 [==============================] - 33s 15ms/step - loss: 0.0307 - accuracy: 0.9894 - val_loss: 0.0362 - val_accuracy: 0.9870\n",
            "Epoch 27/50\n",
            "2174/2174 [==============================] - 41s 19ms/step - loss: 0.0331 - accuracy: 0.9890 - val_loss: 0.0607 - val_accuracy: 0.9770\n",
            "Epoch 28/50\n",
            "2174/2174 [==============================] - 37s 17ms/step - loss: 0.0309 - accuracy: 0.9892 - val_loss: 0.0554 - val_accuracy: 0.9801\n",
            "Epoch 29/50\n",
            "2174/2174 [==============================] - 36s 17ms/step - loss: 0.0279 - accuracy: 0.9907 - val_loss: 0.0166 - val_accuracy: 0.9940\n",
            "Epoch 30/50\n",
            "2174/2174 [==============================] - 32s 15ms/step - loss: 0.0296 - accuracy: 0.9897 - val_loss: 0.0444 - val_accuracy: 0.9866\n",
            "Epoch 31/50\n",
            "2174/2174 [==============================] - 34s 16ms/step - loss: 0.0272 - accuracy: 0.9903 - val_loss: 0.0116 - val_accuracy: 0.9971\n",
            "Epoch 32/50\n",
            "2174/2174 [==============================] - 33s 15ms/step - loss: 0.0237 - accuracy: 0.9920 - val_loss: 0.0789 - val_accuracy: 0.9705\n",
            "Epoch 33/50\n",
            "2174/2174 [==============================] - 34s 15ms/step - loss: 0.0267 - accuracy: 0.9909 - val_loss: 0.0225 - val_accuracy: 0.9913\n",
            "Epoch 34/50\n",
            "2174/2174 [==============================] - 35s 16ms/step - loss: 0.0252 - accuracy: 0.9916 - val_loss: 0.0142 - val_accuracy: 0.9960\n",
            "Epoch 35/50\n",
            "2174/2174 [==============================] - 35s 16ms/step - loss: 0.0244 - accuracy: 0.9917 - val_loss: 0.0532 - val_accuracy: 0.9786\n",
            "Epoch 36/50\n",
            "2174/2174 [==============================] - 37s 17ms/step - loss: 0.0223 - accuracy: 0.9918 - val_loss: 0.0196 - val_accuracy: 0.9933\n",
            "Epoch 37/50\n",
            "2174/2174 [==============================] - 34s 16ms/step - loss: 0.0260 - accuracy: 0.9912 - val_loss: 0.0115 - val_accuracy: 0.9968\n",
            "Epoch 38/50\n",
            "2174/2174 [==============================] - 33s 15ms/step - loss: 0.0217 - accuracy: 0.9928 - val_loss: 0.0240 - val_accuracy: 0.9919\n",
            "Epoch 39/50\n",
            "2174/2174 [==============================] - 31s 14ms/step - loss: 0.0260 - accuracy: 0.9915 - val_loss: 0.0185 - val_accuracy: 0.9950\n",
            "Epoch 40/50\n",
            "2174/2174 [==============================] - 32s 15ms/step - loss: 0.0212 - accuracy: 0.9927 - val_loss: 0.0309 - val_accuracy: 0.9878\n",
            "Epoch 41/50\n",
            "2174/2174 [==============================] - 33s 15ms/step - loss: 0.0224 - accuracy: 0.9925 - val_loss: 0.0149 - val_accuracy: 0.9955\n",
            "Epoch 42/50\n",
            "2174/2174 [==============================] - 32s 15ms/step - loss: 0.0220 - accuracy: 0.9925 - val_loss: 0.0142 - val_accuracy: 0.9960\n",
            "Epoch 43/50\n",
            "2174/2174 [==============================] - 33s 15ms/step - loss: 0.0206 - accuracy: 0.9932 - val_loss: 0.0185 - val_accuracy: 0.9948\n",
            "Epoch 44/50\n",
            "2174/2174 [==============================] - 33s 15ms/step - loss: 0.0197 - accuracy: 0.9931 - val_loss: 0.1028 - val_accuracy: 0.9651\n",
            "Epoch 45/50\n",
            "2174/2174 [==============================] - 31s 14ms/step - loss: 0.0203 - accuracy: 0.9933 - val_loss: 0.0364 - val_accuracy: 0.9886\n",
            "Epoch 46/50\n",
            "2174/2174 [==============================] - 32s 15ms/step - loss: 0.0201 - accuracy: 0.9936 - val_loss: 0.0137 - val_accuracy: 0.9947\n",
            "Epoch 47/50\n",
            "2174/2174 [==============================] - 32s 15ms/step - loss: 0.0193 - accuracy: 0.9934 - val_loss: 0.0084 - val_accuracy: 0.9979\n",
            "Epoch 48/50\n",
            "2174/2174 [==============================] - 34s 16ms/step - loss: 0.0172 - accuracy: 0.9939 - val_loss: 0.0103 - val_accuracy: 0.9963\n",
            "Epoch 49/50\n",
            "2174/2174 [==============================] - 35s 16ms/step - loss: 0.0205 - accuracy: 0.9934 - val_loss: 0.0115 - val_accuracy: 0.9964\n",
            "Epoch 50/50\n",
            "2174/2174 [==============================] - 33s 15ms/step - loss: 0.0183 - accuracy: 0.9940 - val_loss: 0.0127 - val_accuracy: 0.9958\n",
            "932/932 [==============================] - 4s 4ms/step - loss: 0.0127 - accuracy: 0.9958\n",
            "Test accuracy: 99.58%\n"
          ]
        }
      ]
    }
  ]
}