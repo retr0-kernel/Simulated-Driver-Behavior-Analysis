{
  "nbformat": 4,
  "nbformat_minor": 0,
  "metadata": {
    "colab": {
      "provenance": [],
      "authorship_tag": "ABX9TyP6C5iH617uwQ+G1hS4gRS8",
      "include_colab_link": true
    },
    "kernelspec": {
      "name": "python3",
      "display_name": "Python 3"
    },
    "language_info": {
      "name": "python"
    }
  },
  "cells": [
    {
      "cell_type": "markdown",
      "metadata": {
        "id": "view-in-github",
        "colab_type": "text"
      },
      "source": [
        "<a href=\"https://colab.research.google.com/github/retr0-kernel/UROP/blob/main/Driver_Behaviour_Analysis(CNN).ipynb\" target=\"_parent\"><img src=\"https://colab.research.google.com/assets/colab-badge.svg\" alt=\"Open In Colab\"/></a>"
      ]
    },
    {
      "cell_type": "code",
      "execution_count": 1,
      "metadata": {
        "id": "Kl7IYmio13fd"
      },
      "outputs": [],
      "source": [
        "import pandas as pd\n",
        "import numpy as np\n",
        "import os\n",
        "import tensorflow as tf\n",
        "from tensorflow import keras\n",
        "from sklearn.preprocessing import LabelEncoder\n",
        "from sklearn.model_selection import train_test_split\n",
        "from sklearn.preprocessing import StandardScaler"
      ]
    },
    {
      "cell_type": "code",
      "source": [
        "FILE = 'https://raw.githubusercontent.com/Ani-RudE/urop/main/full_data.csv'\n",
        "iris_data = pd.read_csv(FILE, header=0)"
      ],
      "metadata": {
        "id": "rP13h2wy2Yxe"
      },
      "execution_count": 2,
      "outputs": []
    },
    {
      "cell_type": "code",
      "source": [
        "X = iris_data.drop('class', axis=1)\n",
        "y = iris_data['class']\n",
        "label_encoder = LabelEncoder()\n",
        "y_encoded = label_encoder.fit_transform(y)"
      ],
      "metadata": {
        "id": "ko59-cOl2g_m"
      },
      "execution_count": 3,
      "outputs": []
    },
    {
      "cell_type": "code",
      "source": [
        "X_train, X_test, y_train, y_test = train_test_split(X, y_encoded, test_size=0.3, random_state=42)"
      ],
      "metadata": {
        "id": "5tEhrgbp2lS-"
      },
      "execution_count": 5,
      "outputs": []
    },
    {
      "cell_type": "code",
      "source": [
        "scaler = StandardScaler()\n",
        "X_train = scaler.fit_transform(X_train)\n",
        "X_test = scaler.transform(X_test)"
      ],
      "metadata": {
        "id": "0XDup1XS2na1"
      },
      "execution_count": 6,
      "outputs": []
    },
    {
      "cell_type": "code",
      "source": [
        "X_train = X_train.reshape(X_train.shape[0], X_train.shape[1], 1)\n",
        "X_test = X_test.reshape(X_test.shape[0], X_test.shape[1], 1)"
      ],
      "metadata": {
        "id": "xA4wtgNX2qTO"
      },
      "execution_count": 7,
      "outputs": []
    },
    {
      "cell_type": "code",
      "source": [
        "model = keras.Sequential([\n",
        "    keras.layers.Input(shape=(X_train.shape[1], 1)),\n",
        "    keras.layers.Conv1D(32, 3, activation='relu'),\n",
        "    keras.layers.MaxPooling1D(2),\n",
        "    keras.layers.Flatten(),\n",
        "    keras.layers.Dense(128, activation='relu'),\n",
        "    keras.layers.Dense(len(label_encoder.classes_), activation='softmax')\n",
        "])"
      ],
      "metadata": {
        "id": "PiP_L5Cs2tOw"
      },
      "execution_count": 9,
      "outputs": []
    },
    {
      "cell_type": "code",
      "source": [
        "custom_optimizer = keras.optimizers.Adam(learning_rate=0.001)\n",
        "model.compile(optimizer=custom_optimizer, loss='sparse_categorical_crossentropy', metrics=['accuracy'])"
      ],
      "metadata": {
        "id": "MAHqUkBb2xrv"
      },
      "execution_count": 10,
      "outputs": []
    },
    {
      "cell_type": "code",
      "source": [
        "history = model.fit(X_train, y_train, epochs=50, validation_data=(X_test, y_test), verbose=1)\n",
        "test_loss, test_accuracy = model.evaluate(X_test, y_test)\n",
        "print(f'Test accuracy: {test_accuracy * 100:.2f}%')"
      ],
      "metadata": {
        "colab": {
          "base_uri": "https://localhost:8080/"
        },
        "id": "d46mTGHP29Xa",
        "outputId": "61ae7ffd-e627-4714-ad18-f414735b8eb7"
      },
      "execution_count": 12,
      "outputs": [
        {
          "output_type": "stream",
          "name": "stdout",
          "text": [
            "Epoch 1/50\n",
            "2174/2174 [==============================] - 7s 3ms/step - loss: 0.7895 - accuracy: 0.7370 - val_loss: 0.6968 - val_accuracy: 0.7811\n",
            "Epoch 2/50\n",
            "2174/2174 [==============================] - 6s 3ms/step - loss: 0.6245 - accuracy: 0.7842 - val_loss: 0.5880 - val_accuracy: 0.7938\n",
            "Epoch 3/50\n",
            "2174/2174 [==============================] - 6s 3ms/step - loss: 0.5345 - accuracy: 0.8066 - val_loss: 0.5114 - val_accuracy: 0.8134\n",
            "Epoch 4/50\n",
            "2174/2174 [==============================] - 6s 3ms/step - loss: 0.4572 - accuracy: 0.8337 - val_loss: 0.4407 - val_accuracy: 0.8670\n",
            "Epoch 5/50\n",
            "2174/2174 [==============================] - 6s 3ms/step - loss: 0.3845 - accuracy: 0.8644 - val_loss: 0.3667 - val_accuracy: 0.8779\n",
            "Epoch 6/50\n",
            "2174/2174 [==============================] - 7s 3ms/step - loss: 0.3350 - accuracy: 0.8836 - val_loss: 0.3280 - val_accuracy: 0.9041\n",
            "Epoch 7/50\n",
            "2174/2174 [==============================] - 6s 3ms/step - loss: 0.2919 - accuracy: 0.9019 - val_loss: 0.2961 - val_accuracy: 0.8998\n",
            "Epoch 8/50\n",
            "2174/2174 [==============================] - 7s 3ms/step - loss: 0.2596 - accuracy: 0.9146 - val_loss: 0.2571 - val_accuracy: 0.9254\n",
            "Epoch 9/50\n",
            "2174/2174 [==============================] - 6s 3ms/step - loss: 0.2323 - accuracy: 0.9258 - val_loss: 0.2396 - val_accuracy: 0.9327\n",
            "Epoch 10/50\n",
            "2174/2174 [==============================] - 7s 3ms/step - loss: 0.2157 - accuracy: 0.9326 - val_loss: 0.2199 - val_accuracy: 0.9329\n",
            "Epoch 11/50\n",
            "2174/2174 [==============================] - 6s 3ms/step - loss: 0.1974 - accuracy: 0.9389 - val_loss: 0.2234 - val_accuracy: 0.9315\n",
            "Epoch 12/50\n",
            "2174/2174 [==============================] - 7s 3ms/step - loss: 0.1916 - accuracy: 0.9391 - val_loss: 0.2122 - val_accuracy: 0.9376\n",
            "Epoch 13/50\n",
            "2174/2174 [==============================] - 5s 3ms/step - loss: 0.1747 - accuracy: 0.9458 - val_loss: 0.2032 - val_accuracy: 0.9386\n",
            "Epoch 14/50\n",
            "2174/2174 [==============================] - 7s 3ms/step - loss: 0.1668 - accuracy: 0.9476 - val_loss: 0.2091 - val_accuracy: 0.9347\n",
            "Epoch 15/50\n",
            "2174/2174 [==============================] - 6s 3ms/step - loss: 0.1523 - accuracy: 0.9526 - val_loss: 0.1815 - val_accuracy: 0.9440\n",
            "Epoch 16/50\n",
            "2174/2174 [==============================] - 7s 3ms/step - loss: 0.1456 - accuracy: 0.9549 - val_loss: 0.2068 - val_accuracy: 0.9487\n",
            "Epoch 17/50\n",
            "2174/2174 [==============================] - 6s 3ms/step - loss: 0.1445 - accuracy: 0.9565 - val_loss: 0.1574 - val_accuracy: 0.9564\n",
            "Epoch 18/50\n",
            "2174/2174 [==============================] - 7s 3ms/step - loss: 0.1358 - accuracy: 0.9576 - val_loss: 0.1516 - val_accuracy: 0.9607\n",
            "Epoch 19/50\n",
            "2174/2174 [==============================] - 6s 3ms/step - loss: 0.1266 - accuracy: 0.9605 - val_loss: 0.1582 - val_accuracy: 0.9637\n",
            "Epoch 20/50\n",
            "2174/2174 [==============================] - 7s 3ms/step - loss: 0.1224 - accuracy: 0.9623 - val_loss: 0.1434 - val_accuracy: 0.9647\n",
            "Epoch 21/50\n",
            "2174/2174 [==============================] - 6s 3ms/step - loss: 0.1192 - accuracy: 0.9625 - val_loss: 0.1394 - val_accuracy: 0.9604\n",
            "Epoch 22/50\n",
            "2174/2174 [==============================] - 7s 3ms/step - loss: 0.1200 - accuracy: 0.9637 - val_loss: 0.1624 - val_accuracy: 0.9579\n",
            "Epoch 23/50\n",
            "2174/2174 [==============================] - 6s 3ms/step - loss: 0.1139 - accuracy: 0.9656 - val_loss: 0.1448 - val_accuracy: 0.9646\n",
            "Epoch 24/50\n",
            "2174/2174 [==============================] - 8s 3ms/step - loss: 0.1100 - accuracy: 0.9674 - val_loss: 0.1374 - val_accuracy: 0.9662\n",
            "Epoch 25/50\n",
            "2174/2174 [==============================] - 6s 3ms/step - loss: 0.1039 - accuracy: 0.9680 - val_loss: 0.1301 - val_accuracy: 0.9661\n",
            "Epoch 26/50\n",
            "2174/2174 [==============================] - 7s 3ms/step - loss: 0.1026 - accuracy: 0.9680 - val_loss: 0.1261 - val_accuracy: 0.9666\n",
            "Epoch 27/50\n",
            "2174/2174 [==============================] - 6s 3ms/step - loss: 0.0951 - accuracy: 0.9713 - val_loss: 0.1331 - val_accuracy: 0.9682\n",
            "Epoch 28/50\n",
            "2174/2174 [==============================] - 7s 3ms/step - loss: 0.0944 - accuracy: 0.9711 - val_loss: 0.1150 - val_accuracy: 0.9756\n",
            "Epoch 29/50\n",
            "2174/2174 [==============================] - 7s 3ms/step - loss: 0.0901 - accuracy: 0.9725 - val_loss: 0.1376 - val_accuracy: 0.9643\n",
            "Epoch 30/50\n",
            "2174/2174 [==============================] - 7s 3ms/step - loss: 0.0893 - accuracy: 0.9733 - val_loss: 0.1870 - val_accuracy: 0.9525\n",
            "Epoch 31/50\n",
            "2174/2174 [==============================] - 6s 3ms/step - loss: 0.0956 - accuracy: 0.9733 - val_loss: 0.1256 - val_accuracy: 0.9662\n",
            "Epoch 32/50\n",
            "2174/2174 [==============================] - 8s 3ms/step - loss: 0.0868 - accuracy: 0.9745 - val_loss: 0.1031 - val_accuracy: 0.9753\n",
            "Epoch 33/50\n",
            "2174/2174 [==============================] - 6s 3ms/step - loss: 0.0809 - accuracy: 0.9758 - val_loss: 0.1098 - val_accuracy: 0.9735\n",
            "Epoch 34/50\n",
            "2174/2174 [==============================] - 8s 4ms/step - loss: 0.0823 - accuracy: 0.9749 - val_loss: 0.1187 - val_accuracy: 0.9731\n",
            "Epoch 35/50\n",
            "2174/2174 [==============================] - 6s 3ms/step - loss: 0.0846 - accuracy: 0.9748 - val_loss: 0.1100 - val_accuracy: 0.9720\n",
            "Epoch 36/50\n",
            "2174/2174 [==============================] - 7s 3ms/step - loss: 0.0777 - accuracy: 0.9769 - val_loss: 0.1288 - val_accuracy: 0.9673\n",
            "Epoch 37/50\n",
            "2174/2174 [==============================] - 6s 3ms/step - loss: 0.0766 - accuracy: 0.9756 - val_loss: 0.1057 - val_accuracy: 0.9763\n",
            "Epoch 38/50\n",
            "2174/2174 [==============================] - 8s 4ms/step - loss: 0.0759 - accuracy: 0.9778 - val_loss: 0.0805 - val_accuracy: 0.9829\n",
            "Epoch 39/50\n",
            "2174/2174 [==============================] - 6s 3ms/step - loss: 0.0745 - accuracy: 0.9774 - val_loss: 0.0997 - val_accuracy: 0.9811\n",
            "Epoch 40/50\n",
            "2174/2174 [==============================] - 7s 3ms/step - loss: 0.0754 - accuracy: 0.9781 - val_loss: 0.0964 - val_accuracy: 0.9798\n",
            "Epoch 41/50\n",
            "2174/2174 [==============================] - 6s 3ms/step - loss: 0.0769 - accuracy: 0.9778 - val_loss: 0.0930 - val_accuracy: 0.9790\n",
            "Epoch 42/50\n",
            "2174/2174 [==============================] - 8s 4ms/step - loss: 0.0666 - accuracy: 0.9798 - val_loss: 0.1092 - val_accuracy: 0.9703\n",
            "Epoch 43/50\n",
            "2174/2174 [==============================] - 6s 3ms/step - loss: 0.0762 - accuracy: 0.9786 - val_loss: 0.1065 - val_accuracy: 0.9753\n",
            "Epoch 44/50\n",
            "2174/2174 [==============================] - 7s 3ms/step - loss: 0.0647 - accuracy: 0.9808 - val_loss: 0.1383 - val_accuracy: 0.9725\n",
            "Epoch 45/50\n",
            "2174/2174 [==============================] - 6s 3ms/step - loss: 0.0705 - accuracy: 0.9794 - val_loss: 0.1022 - val_accuracy: 0.9773\n",
            "Epoch 46/50\n",
            "2174/2174 [==============================] - 7s 3ms/step - loss: 0.0725 - accuracy: 0.9790 - val_loss: 0.1209 - val_accuracy: 0.9684\n",
            "Epoch 47/50\n",
            "2174/2174 [==============================] - 6s 3ms/step - loss: 0.0647 - accuracy: 0.9805 - val_loss: 0.0838 - val_accuracy: 0.9811\n",
            "Epoch 48/50\n",
            "2174/2174 [==============================] - 7s 3ms/step - loss: 0.0635 - accuracy: 0.9809 - val_loss: 0.0880 - val_accuracy: 0.9817\n",
            "Epoch 49/50\n",
            "2174/2174 [==============================] - 7s 3ms/step - loss: 0.0663 - accuracy: 0.9807 - val_loss: 0.0929 - val_accuracy: 0.9808\n",
            "Epoch 50/50\n",
            "2174/2174 [==============================] - 7s 3ms/step - loss: 0.0599 - accuracy: 0.9826 - val_loss: 0.1088 - val_accuracy: 0.9745\n",
            "932/932 [==============================] - 1s 2ms/step - loss: 0.1088 - accuracy: 0.9745\n",
            "Test accuracy: 97.45%\n"
          ]
        }
      ]
    }
  ]
}